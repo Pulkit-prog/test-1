{
 "cells": [
  {
   "cell_type": "code",
   "execution_count": null,
   "id": "8f957a7f",
   "metadata": {},
   "outputs": [],
   "source": [
    "import os\n",
    "import shutil\n",
    "\n",
    "# Define the folder structure and file types\n",
    "folders = {\n",
    "    'Images': ['jpg', 'png'],\n",
    "    'Videos': ['mp4', 'mkv'],\n",
    "    'Music': ['mp3', 'oog'],\n",
    "    'Documents': ['txt', 'docx', 'pdf']\n",
    "}\n",
    "\n",
    "def organize_files(directory):\n",
    "    if not os.path.exists(directory):\n",
    "        print(f\"The directory {directory} does not exist.\")\n",
    "        return\n",
    "\n",
    "    # Create necessary folders if they don't exist\n",
    "    for folder in folders:\n",
    "        os.makedirs(os.path.join(directory, folder), exist_ok=True)\n",
    "    os.makedirs(os.path.join(directory, 'Misc'), exist_ok=True)\n",
    "\n",
    "    # Organize files based on their extensions\n",
    "    for filename in os.listdir(directory):\n",
    "        filepath = os.path.join(directory, filename)\n",
    "        if os.path.isdir(filepath):  # Skip directories\n",
    "            continue\n",
    "\n",
    "        file_ext = filename.split('.')[-1].lower()\n",
    "        dest_folder = next((folder for folder, exts in folders.items() if file_ext in exts), 'Misc')\n",
    "        shutil.move(filepath, os.path.join(directory, dest_folder))\n",
    "\n",
    "# Get directory input from the user\n",
    "directory = input(\"Enter the directory path to organize: \")\n",
    "organize_files(directory)\n"
   ]
  }
 ],
 "metadata": {
  "kernelspec": {
   "display_name": "Python 3 (ipykernel)",
   "language": "python",
   "name": "python3"
  },
  "language_info": {
   "codemirror_mode": {
    "name": "ipython",
    "version": 3
   },
   "file_extension": ".py",
   "mimetype": "text/x-python",
   "name": "python",
   "nbconvert_exporter": "python",
   "pygments_lexer": "ipython3",
   "version": "3.10.9"
  }
 },
 "nbformat": 4,
 "nbformat_minor": 5
}
